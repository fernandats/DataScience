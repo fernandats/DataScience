{
 "cells": [
  {
   "cell_type": "code",
   "execution_count": 1,
   "metadata": {},
   "outputs": [],
   "source": [
    "#Importando a biblioteca pandas\n",
    "import pandas as pd"
   ]
  },
  {
   "cell_type": "code",
   "execution_count": 2,
   "metadata": {},
   "outputs": [],
   "source": [
    "#Lendo a base de dados\n",
    "df = pd.read_excel(\"planilha_vendas.xlsx\")"
   ]
  },
  {
   "cell_type": "code",
   "execution_count": 3,
   "metadata": {},
   "outputs": [
    {
     "data": {
      "text/html": [
       "<div>\n",
       "<style scoped>\n",
       "    .dataframe tbody tr th:only-of-type {\n",
       "        vertical-align: middle;\n",
       "    }\n",
       "\n",
       "    .dataframe tbody tr th {\n",
       "        vertical-align: top;\n",
       "    }\n",
       "\n",
       "    .dataframe thead th {\n",
       "        text-align: right;\n",
       "    }\n",
       "</style>\n",
       "<table border=\"1\" class=\"dataframe\">\n",
       "  <thead>\n",
       "    <tr style=\"text-align: right;\">\n",
       "      <th></th>\n",
       "      <th>Cidade ID</th>\n",
       "      <th>Data</th>\n",
       "      <th>Vendas</th>\n",
       "      <th>LojaID</th>\n",
       "      <th>Qtde</th>\n",
       "    </tr>\n",
       "  </thead>\n",
       "  <tbody>\n",
       "    <tr>\n",
       "      <th>0</th>\n",
       "      <td>22.0</td>\n",
       "      <td>41641</td>\n",
       "      <td>127.92</td>\n",
       "      <td>1036.0</td>\n",
       "      <td>1</td>\n",
       "    </tr>\n",
       "    <tr>\n",
       "      <th>1</th>\n",
       "      <td>22.0</td>\n",
       "      <td>41641</td>\n",
       "      <td>30.97</td>\n",
       "      <td>1036.0</td>\n",
       "      <td>1</td>\n",
       "    </tr>\n",
       "    <tr>\n",
       "      <th>2</th>\n",
       "      <td>22.0</td>\n",
       "      <td>41641</td>\n",
       "      <td>39.29</td>\n",
       "      <td>1036.0</td>\n",
       "      <td>1</td>\n",
       "    </tr>\n",
       "    <tr>\n",
       "      <th>3</th>\n",
       "      <td>22.0</td>\n",
       "      <td>41641</td>\n",
       "      <td>158.66</td>\n",
       "      <td>1036.0</td>\n",
       "      <td>1</td>\n",
       "    </tr>\n",
       "    <tr>\n",
       "      <th>4</th>\n",
       "      <td>22.0</td>\n",
       "      <td>41641</td>\n",
       "      <td>242.31</td>\n",
       "      <td>1036.0</td>\n",
       "      <td>1</td>\n",
       "    </tr>\n",
       "  </tbody>\n",
       "</table>\n",
       "</div>"
      ],
      "text/plain": [
       "   Cidade ID   Data  Vendas  LojaID  Qtde\n",
       "0       22.0  41641  127.92  1036.0     1\n",
       "1       22.0  41641   30.97  1036.0     1\n",
       "2       22.0  41641   39.29  1036.0     1\n",
       "3       22.0  41641  158.66  1036.0     1\n",
       "4       22.0  41641  242.31  1036.0     1"
      ]
     },
     "execution_count": 3,
     "metadata": {},
     "output_type": "execute_result"
    }
   ],
   "source": [
    "#Exibindo as 5 primeiras linhas \n",
    "df.head()"
   ]
  },
  {
   "cell_type": "markdown",
   "metadata": {},
   "source": [
    "## Nesse caso, o método utilizado foi o read_excel, já que estamos trabalhando com uma planilha do Excel, então, já temos nosso dataset carregado e já visualizamos as 5 primeiras linhas com o método head(). Vamos começar?"
   ]
  },
  {
   "cell_type": "markdown",
   "metadata": {},
   "source": [
    "### Para começar vamos alterar o tipo da coluna LojaID para string, como podem perceber ela está vindo como float, mas, como não iremos utilizar essa coluna para cálculos, transformaremos essa coluna em uma string, segue o código:"
   ]
  },
  {
   "cell_type": "code",
   "execution_count": 4,
   "metadata": {},
   "outputs": [],
   "source": [
    "df[\"LojaID\"] = df[\"LojaID\"].astype(str)"
   ]
  },
  {
   "cell_type": "code",
   "execution_count": 5,
   "metadata": {},
   "outputs": [
    {
     "data": {
      "text/html": [
       "<div>\n",
       "<style scoped>\n",
       "    .dataframe tbody tr th:only-of-type {\n",
       "        vertical-align: middle;\n",
       "    }\n",
       "\n",
       "    .dataframe tbody tr th {\n",
       "        vertical-align: top;\n",
       "    }\n",
       "\n",
       "    .dataframe thead th {\n",
       "        text-align: right;\n",
       "    }\n",
       "</style>\n",
       "<table border=\"1\" class=\"dataframe\">\n",
       "  <thead>\n",
       "    <tr style=\"text-align: right;\">\n",
       "      <th></th>\n",
       "      <th>Cidade ID</th>\n",
       "      <th>Data</th>\n",
       "      <th>Vendas</th>\n",
       "      <th>LojaID</th>\n",
       "      <th>Qtde</th>\n",
       "    </tr>\n",
       "  </thead>\n",
       "  <tbody>\n",
       "    <tr>\n",
       "      <th>0</th>\n",
       "      <td>22.0</td>\n",
       "      <td>41641</td>\n",
       "      <td>127.92</td>\n",
       "      <td>1036.0</td>\n",
       "      <td>1</td>\n",
       "    </tr>\n",
       "    <tr>\n",
       "      <th>1</th>\n",
       "      <td>22.0</td>\n",
       "      <td>41641</td>\n",
       "      <td>30.97</td>\n",
       "      <td>1036.0</td>\n",
       "      <td>1</td>\n",
       "    </tr>\n",
       "    <tr>\n",
       "      <th>2</th>\n",
       "      <td>22.0</td>\n",
       "      <td>41641</td>\n",
       "      <td>39.29</td>\n",
       "      <td>1036.0</td>\n",
       "      <td>1</td>\n",
       "    </tr>\n",
       "    <tr>\n",
       "      <th>3</th>\n",
       "      <td>22.0</td>\n",
       "      <td>41641</td>\n",
       "      <td>158.66</td>\n",
       "      <td>1036.0</td>\n",
       "      <td>1</td>\n",
       "    </tr>\n",
       "    <tr>\n",
       "      <th>4</th>\n",
       "      <td>22.0</td>\n",
       "      <td>41641</td>\n",
       "      <td>242.31</td>\n",
       "      <td>1036.0</td>\n",
       "      <td>1</td>\n",
       "    </tr>\n",
       "  </tbody>\n",
       "</table>\n",
       "</div>"
      ],
      "text/plain": [
       "   Cidade ID   Data  Vendas  LojaID  Qtde\n",
       "0       22.0  41641  127.92  1036.0     1\n",
       "1       22.0  41641   30.97  1036.0     1\n",
       "2       22.0  41641   39.29  1036.0     1\n",
       "3       22.0  41641  158.66  1036.0     1\n",
       "4       22.0  41641  242.31  1036.0     1"
      ]
     },
     "execution_count": 5,
     "metadata": {},
     "output_type": "execute_result"
    }
   ],
   "source": [
    "df.head()"
   ]
  },
  {
   "cell_type": "markdown",
   "metadata": {},
   "source": [
    "### Pronto, agora já temos LojaID como string, e como temos certeza disso? basta utilizar o df.dtypes como mostrado abaixo:"
   ]
  },
  {
   "cell_type": "code",
   "execution_count": 6,
   "metadata": {},
   "outputs": [
    {
     "data": {
      "text/plain": [
       "Cidade ID    float64\n",
       "Data           int64\n",
       "Vendas       float64\n",
       "LojaID        object\n",
       "Qtde           int64\n",
       "dtype: object"
      ]
     },
     "execution_count": 6,
     "metadata": {},
     "output_type": "execute_result"
    }
   ],
   "source": [
    "df.dtypes"
   ]
  },
  {
   "cell_type": "markdown",
   "metadata": {},
   "source": [
    "### Agora vou mostrar como adicionar uma nova coluna em nosso dataset, vocês já devem ter observado que temos uma coluna de venda e uma coluna de quantidade, então para retornar a receita vamos multiplicar vendas por quantidade, vamos lá?"
   ]
  },
  {
   "cell_type": "code",
   "execution_count": 7,
   "metadata": {},
   "outputs": [],
   "source": [
    "df[\"Receita\"] = df[\"Vendas\"].mul(df[\"Qtde\"])"
   ]
  },
  {
   "cell_type": "code",
   "execution_count": 8,
   "metadata": {},
   "outputs": [
    {
     "data": {
      "text/html": [
       "<div>\n",
       "<style scoped>\n",
       "    .dataframe tbody tr th:only-of-type {\n",
       "        vertical-align: middle;\n",
       "    }\n",
       "\n",
       "    .dataframe tbody tr th {\n",
       "        vertical-align: top;\n",
       "    }\n",
       "\n",
       "    .dataframe thead th {\n",
       "        text-align: right;\n",
       "    }\n",
       "</style>\n",
       "<table border=\"1\" class=\"dataframe\">\n",
       "  <thead>\n",
       "    <tr style=\"text-align: right;\">\n",
       "      <th></th>\n",
       "      <th>Cidade ID</th>\n",
       "      <th>Data</th>\n",
       "      <th>Vendas</th>\n",
       "      <th>LojaID</th>\n",
       "      <th>Qtde</th>\n",
       "      <th>Receita</th>\n",
       "    </tr>\n",
       "  </thead>\n",
       "  <tbody>\n",
       "    <tr>\n",
       "      <th>507</th>\n",
       "      <td>26.0</td>\n",
       "      <td>41640</td>\n",
       "      <td>15.62</td>\n",
       "      <td>1037</td>\n",
       "      <td>2</td>\n",
       "      <td>31.24</td>\n",
       "    </tr>\n",
       "    <tr>\n",
       "      <th>508</th>\n",
       "      <td>26.0</td>\n",
       "      <td>41640</td>\n",
       "      <td>13.41</td>\n",
       "      <td>1037</td>\n",
       "      <td>7</td>\n",
       "      <td>93.87</td>\n",
       "    </tr>\n",
       "    <tr>\n",
       "      <th>509</th>\n",
       "      <td>26.0</td>\n",
       "      <td>41640</td>\n",
       "      <td>33.12</td>\n",
       "      <td>1037</td>\n",
       "      <td>9</td>\n",
       "      <td>298.08</td>\n",
       "    </tr>\n",
       "    <tr>\n",
       "      <th>510</th>\n",
       "      <td>26.0</td>\n",
       "      <td>41640</td>\n",
       "      <td>37.49</td>\n",
       "      <td>1037</td>\n",
       "      <td>2</td>\n",
       "      <td>74.98</td>\n",
       "    </tr>\n",
       "    <tr>\n",
       "      <th>511</th>\n",
       "      <td>26.0</td>\n",
       "      <td>41640</td>\n",
       "      <td>13.70</td>\n",
       "      <td>1037</td>\n",
       "      <td>6</td>\n",
       "      <td>82.20</td>\n",
       "    </tr>\n",
       "  </tbody>\n",
       "</table>\n",
       "</div>"
      ],
      "text/plain": [
       "     Cidade ID   Data  Vendas LojaID  Qtde  Receita\n",
       "507       26.0  41640   15.62   1037     2    31.24\n",
       "508       26.0  41640   13.41   1037     7    93.87\n",
       "509       26.0  41640   33.12   1037     9   298.08\n",
       "510       26.0  41640   37.49   1037     2    74.98\n",
       "511       26.0  41640   13.70   1037     6    82.20"
      ]
     },
     "execution_count": 8,
     "metadata": {},
     "output_type": "execute_result"
    }
   ],
   "source": [
    "#Exibindo as 5 últimas linhas\n",
    "df.tail()"
   ]
  },
  {
   "cell_type": "markdown",
   "metadata": {},
   "source": [
    "###  Agora vamos tratar valores faltantes, e como descubro se tem algum dado missing em meu dataset? fácil também, olha só:"
   ]
  },
  {
   "cell_type": "code",
   "execution_count": 9,
   "metadata": {},
   "outputs": [
    {
     "data": {
      "text/plain": [
       "Cidade ID    2\n",
       "Data         0\n",
       "Vendas       0\n",
       "LojaID       4\n",
       "Qtde         0\n",
       "Receita      0\n",
       "dtype: int64"
      ]
     },
     "execution_count": 9,
     "metadata": {},
     "output_type": "execute_result"
    }
   ],
   "source": [
    "df.isnull().sum()"
   ]
  },
  {
   "cell_type": "markdown",
   "metadata": {},
   "source": [
    "### Temos 2 linhas com valores nulos e eles referem-se a coluna Cidade ID, ou seja, alguém esqueceu de preencher o ID da Cidade em 2 vendas realizadas, Fernanda, podemos apagar essas linhas do nosso dataset? podemos sim:"
   ]
  },
  {
   "cell_type": "code",
   "execution_count": 12,
   "metadata": {},
   "outputs": [],
   "source": [
    "df.dropna(inplace=True) #O parâmetro inplace define que a alteração irá modificar o objeto em memória."
   ]
  },
  {
   "cell_type": "code",
   "execution_count": 13,
   "metadata": {},
   "outputs": [
    {
     "data": {
      "text/plain": [
       "Cidade ID    0\n",
       "Data         0\n",
       "Vendas       0\n",
       "LojaID       0\n",
       "Qtde         0\n",
       "Receita      0\n",
       "dtype: int64"
      ]
     },
     "execution_count": 13,
     "metadata": {},
     "output_type": "execute_result"
    }
   ],
   "source": [
    "#Verificando novamente os valores faltantes\n",
    "df.isnull().sum()"
   ]
  },
  {
   "cell_type": "markdown",
   "metadata": {},
   "source": [
    "### Como podemos retornar a venda de maior receita receita?"
   ]
  },
  {
   "cell_type": "code",
   "execution_count": 14,
   "metadata": {},
   "outputs": [
    {
     "data": {
      "text/plain": [
       "Cidade ID       26.00\n",
       "Data         41792.00\n",
       "Vendas         244.83\n",
       "LojaID        1037.00\n",
       "Qtde            10.00\n",
       "Receita       1913.36\n",
       "dtype: float64"
      ]
     },
     "execution_count": 14,
     "metadata": {},
     "output_type": "execute_result"
    }
   ],
   "source": [
    "df.max()"
   ]
  },
  {
   "cell_type": "markdown",
   "metadata": {},
   "source": [
    "### E a venda de menor receita?"
   ]
  },
  {
   "cell_type": "code",
   "execution_count": 15,
   "metadata": {},
   "outputs": [
    {
     "data": {
      "text/plain": [
       "Cidade ID        7.00\n",
       "Data         41640.00\n",
       "Vendas           3.01\n",
       "LojaID        1035.00\n",
       "Qtde             1.00\n",
       "Receita          3.34\n",
       "dtype: float64"
      ]
     },
     "execution_count": 15,
     "metadata": {},
     "output_type": "execute_result"
    }
   ],
   "source": [
    "df.min()"
   ]
  },
  {
   "cell_type": "markdown",
   "metadata": {},
   "source": [
    "### Também podemos utilizar os métodos nlargest e nsmallest para retornar por exemplo as 3 vendas com as maiores receitas ou as 3 vendas com as menores, como mostrado logo abaixo:"
   ]
  },
  {
   "cell_type": "code",
   "execution_count": 17,
   "metadata": {},
   "outputs": [
    {
     "data": {
      "text/html": [
       "<div>\n",
       "<style scoped>\n",
       "    .dataframe tbody tr th:only-of-type {\n",
       "        vertical-align: middle;\n",
       "    }\n",
       "\n",
       "    .dataframe tbody tr th {\n",
       "        vertical-align: top;\n",
       "    }\n",
       "\n",
       "    .dataframe thead th {\n",
       "        text-align: right;\n",
       "    }\n",
       "</style>\n",
       "<table border=\"1\" class=\"dataframe\">\n",
       "  <thead>\n",
       "    <tr style=\"text-align: right;\">\n",
       "      <th></th>\n",
       "      <th>Cidade ID</th>\n",
       "      <th>Data</th>\n",
       "      <th>Vendas</th>\n",
       "      <th>LojaID</th>\n",
       "      <th>Qtde</th>\n",
       "      <th>Receita</th>\n",
       "    </tr>\n",
       "  </thead>\n",
       "  <tbody>\n",
       "    <tr>\n",
       "      <th>286</th>\n",
       "      <td>7.0</td>\n",
       "      <td>41792</td>\n",
       "      <td>239.17</td>\n",
       "      <td>1037</td>\n",
       "      <td>8</td>\n",
       "      <td>1913.36</td>\n",
       "    </tr>\n",
       "    <tr>\n",
       "      <th>423</th>\n",
       "      <td>26.0</td>\n",
       "      <td>41640</td>\n",
       "      <td>229.64</td>\n",
       "      <td>1037</td>\n",
       "      <td>8</td>\n",
       "      <td>1837.12</td>\n",
       "    </tr>\n",
       "    <tr>\n",
       "      <th>476</th>\n",
       "      <td>26.0</td>\n",
       "      <td>41640</td>\n",
       "      <td>198.24</td>\n",
       "      <td>1037</td>\n",
       "      <td>9</td>\n",
       "      <td>1784.16</td>\n",
       "    </tr>\n",
       "  </tbody>\n",
       "</table>\n",
       "</div>"
      ],
      "text/plain": [
       "     Cidade ID   Data  Vendas LojaID  Qtde  Receita\n",
       "286        7.0  41792  239.17   1037     8  1913.36\n",
       "423       26.0  41640  229.64   1037     8  1837.12\n",
       "476       26.0  41640  198.24   1037     9  1784.16"
      ]
     },
     "execution_count": 17,
     "metadata": {},
     "output_type": "execute_result"
    }
   ],
   "source": [
    "#Top 3 de vendas com base na Receita\n",
    "df.nlargest(3, \"Receita\")"
   ]
  },
  {
   "cell_type": "code",
   "execution_count": 18,
   "metadata": {},
   "outputs": [
    {
     "data": {
      "text/html": [
       "<div>\n",
       "<style scoped>\n",
       "    .dataframe tbody tr th:only-of-type {\n",
       "        vertical-align: middle;\n",
       "    }\n",
       "\n",
       "    .dataframe tbody tr th {\n",
       "        vertical-align: top;\n",
       "    }\n",
       "\n",
       "    .dataframe thead th {\n",
       "        text-align: right;\n",
       "    }\n",
       "</style>\n",
       "<table border=\"1\" class=\"dataframe\">\n",
       "  <thead>\n",
       "    <tr style=\"text-align: right;\">\n",
       "      <th></th>\n",
       "      <th>Cidade ID</th>\n",
       "      <th>Data</th>\n",
       "      <th>Vendas</th>\n",
       "      <th>LojaID</th>\n",
       "      <th>Qtde</th>\n",
       "      <th>Receita</th>\n",
       "    </tr>\n",
       "  </thead>\n",
       "  <tbody>\n",
       "    <tr>\n",
       "      <th>500</th>\n",
       "      <td>26.0</td>\n",
       "      <td>41640</td>\n",
       "      <td>3.34</td>\n",
       "      <td>1037</td>\n",
       "      <td>1</td>\n",
       "      <td>3.34</td>\n",
       "    </tr>\n",
       "    <tr>\n",
       "      <th>305</th>\n",
       "      <td>7.0</td>\n",
       "      <td>41792</td>\n",
       "      <td>4.01</td>\n",
       "      <td>1037</td>\n",
       "      <td>1</td>\n",
       "      <td>4.01</td>\n",
       "    </tr>\n",
       "    <tr>\n",
       "      <th>27</th>\n",
       "      <td>22.0</td>\n",
       "      <td>41641</td>\n",
       "      <td>4.57</td>\n",
       "      <td>1037</td>\n",
       "      <td>1</td>\n",
       "      <td>4.57</td>\n",
       "    </tr>\n",
       "  </tbody>\n",
       "</table>\n",
       "</div>"
      ],
      "text/plain": [
       "     Cidade ID   Data  Vendas LojaID  Qtde  Receita\n",
       "500       26.0  41640    3.34   1037     1     3.34\n",
       "305        7.0  41792    4.01   1037     1     4.01\n",
       "27        22.0  41641    4.57   1037     1     4.57"
      ]
     },
     "execution_count": 18,
     "metadata": {},
     "output_type": "execute_result"
    }
   ],
   "source": [
    "#Bottom 3 de vendas com base na Receita\n",
    "df.nsmallest(3, \"Receita\")"
   ]
  },
  {
   "cell_type": "markdown",
   "metadata": {},
   "source": [
    "### Agora vamos realizar um agrupamento para ver como estão as vendas de cada loja:"
   ]
  },
  {
   "cell_type": "code",
   "execution_count": 19,
   "metadata": {},
   "outputs": [
    {
     "data": {
      "text/plain": [
       "LojaID\n",
       "1035.0       424.85\n",
       "1036.0     19271.94\n",
       "1037.0    121058.24\n",
       "Name: Receita, dtype: float64"
      ]
     },
     "execution_count": 19,
     "metadata": {},
     "output_type": "execute_result"
    }
   ],
   "source": [
    "df.groupby(\"LojaID\")[\"Receita\"].sum()"
   ]
  },
  {
   "cell_type": "markdown",
   "metadata": {},
   "source": [
    "### Agora, vamos conhecer o método sort_values() para ordenar o nosso dataset pela coluna Receita em ordem decrescente:"
   ]
  },
  {
   "cell_type": "code",
   "execution_count": 20,
   "metadata": {},
   "outputs": [
    {
     "data": {
      "text/html": [
       "<div>\n",
       "<style scoped>\n",
       "    .dataframe tbody tr th:only-of-type {\n",
       "        vertical-align: middle;\n",
       "    }\n",
       "\n",
       "    .dataframe tbody tr th {\n",
       "        vertical-align: top;\n",
       "    }\n",
       "\n",
       "    .dataframe thead th {\n",
       "        text-align: right;\n",
       "    }\n",
       "</style>\n",
       "<table border=\"1\" class=\"dataframe\">\n",
       "  <thead>\n",
       "    <tr style=\"text-align: right;\">\n",
       "      <th></th>\n",
       "      <th>Cidade ID</th>\n",
       "      <th>Data</th>\n",
       "      <th>Vendas</th>\n",
       "      <th>LojaID</th>\n",
       "      <th>Qtde</th>\n",
       "      <th>Receita</th>\n",
       "    </tr>\n",
       "  </thead>\n",
       "  <tbody>\n",
       "    <tr>\n",
       "      <th>286</th>\n",
       "      <td>7.0</td>\n",
       "      <td>41792</td>\n",
       "      <td>239.17</td>\n",
       "      <td>1037</td>\n",
       "      <td>8</td>\n",
       "      <td>1913.36</td>\n",
       "    </tr>\n",
       "    <tr>\n",
       "      <th>423</th>\n",
       "      <td>26.0</td>\n",
       "      <td>41640</td>\n",
       "      <td>229.64</td>\n",
       "      <td>1037</td>\n",
       "      <td>8</td>\n",
       "      <td>1837.12</td>\n",
       "    </tr>\n",
       "    <tr>\n",
       "      <th>476</th>\n",
       "      <td>26.0</td>\n",
       "      <td>41640</td>\n",
       "      <td>198.24</td>\n",
       "      <td>1037</td>\n",
       "      <td>9</td>\n",
       "      <td>1784.16</td>\n",
       "    </tr>\n",
       "    <tr>\n",
       "      <th>405</th>\n",
       "      <td>26.0</td>\n",
       "      <td>41640</td>\n",
       "      <td>237.50</td>\n",
       "      <td>1037</td>\n",
       "      <td>7</td>\n",
       "      <td>1662.50</td>\n",
       "    </tr>\n",
       "    <tr>\n",
       "      <th>413</th>\n",
       "      <td>26.0</td>\n",
       "      <td>41640</td>\n",
       "      <td>171.16</td>\n",
       "      <td>1037</td>\n",
       "      <td>9</td>\n",
       "      <td>1540.44</td>\n",
       "    </tr>\n",
       "    <tr>\n",
       "      <th>381</th>\n",
       "      <td>7.0</td>\n",
       "      <td>41792</td>\n",
       "      <td>182.75</td>\n",
       "      <td>1037</td>\n",
       "      <td>8</td>\n",
       "      <td>1462.00</td>\n",
       "    </tr>\n",
       "    <tr>\n",
       "      <th>399</th>\n",
       "      <td>26.0</td>\n",
       "      <td>41640</td>\n",
       "      <td>162.19</td>\n",
       "      <td>1037</td>\n",
       "      <td>9</td>\n",
       "      <td>1459.71</td>\n",
       "    </tr>\n",
       "    <tr>\n",
       "      <th>457</th>\n",
       "      <td>26.0</td>\n",
       "      <td>41640</td>\n",
       "      <td>160.64</td>\n",
       "      <td>1037</td>\n",
       "      <td>9</td>\n",
       "      <td>1445.76</td>\n",
       "    </tr>\n",
       "    <tr>\n",
       "      <th>259</th>\n",
       "      <td>7.0</td>\n",
       "      <td>41792</td>\n",
       "      <td>199.43</td>\n",
       "      <td>1037</td>\n",
       "      <td>7</td>\n",
       "      <td>1396.01</td>\n",
       "    </tr>\n",
       "    <tr>\n",
       "      <th>460</th>\n",
       "      <td>26.0</td>\n",
       "      <td>41640</td>\n",
       "      <td>154.85</td>\n",
       "      <td>1037</td>\n",
       "      <td>9</td>\n",
       "      <td>1393.65</td>\n",
       "    </tr>\n",
       "  </tbody>\n",
       "</table>\n",
       "</div>"
      ],
      "text/plain": [
       "     Cidade ID   Data  Vendas LojaID  Qtde  Receita\n",
       "286        7.0  41792  239.17   1037     8  1913.36\n",
       "423       26.0  41640  229.64   1037     8  1837.12\n",
       "476       26.0  41640  198.24   1037     9  1784.16\n",
       "405       26.0  41640  237.50   1037     7  1662.50\n",
       "413       26.0  41640  171.16   1037     9  1540.44\n",
       "381        7.0  41792  182.75   1037     8  1462.00\n",
       "399       26.0  41640  162.19   1037     9  1459.71\n",
       "457       26.0  41640  160.64   1037     9  1445.76\n",
       "259        7.0  41792  199.43   1037     7  1396.01\n",
       "460       26.0  41640  154.85   1037     9  1393.65"
      ]
     },
     "execution_count": 20,
     "metadata": {},
     "output_type": "execute_result"
    }
   ],
   "source": [
    "df.sort_values(\"Receita\", ascending=False).head(10)"
   ]
  },
  {
   "cell_type": "markdown",
   "metadata": {},
   "source": [
    "### Fernanda, finalizei minha análise, preciso gerar uma nova planilha, como faço? Para isso iremos utilizar o método df.to_excel e passar como parâmetro o nome da nova planilha e se queremos salvar com o index ou não, veja como é fácil:"
   ]
  },
  {
   "cell_type": "code",
   "execution_count": 21,
   "metadata": {},
   "outputs": [],
   "source": [
    "df.to_excel(\"Nova_Planilha_Vendas.xlsx\", index=False)"
   ]
  },
  {
   "cell_type": "markdown",
   "metadata": {},
   "source": [
    "### Pronto, se olhar em seu diretório do Jupyter notebook sua nova planilha já estará lá, pronta para ser utilizada, e você pode fazer Download e utilizar em uma ferramenta de visualização de dados, como por exemplo, o Power BI."
   ]
  },
  {
   "cell_type": "code",
   "execution_count": null,
   "metadata": {},
   "outputs": [],
   "source": []
  }
 ],
 "metadata": {
  "kernelspec": {
   "display_name": "Python 3",
   "language": "python",
   "name": "python3"
  },
  "language_info": {
   "codemirror_mode": {
    "name": "ipython",
    "version": 3
   },
   "file_extension": ".py",
   "mimetype": "text/x-python",
   "name": "python",
   "nbconvert_exporter": "python",
   "pygments_lexer": "ipython3",
   "version": "3.7.3"
  }
 },
 "nbformat": 4,
 "nbformat_minor": 2
}
